{
 "cells": [
  {
   "cell_type": "code",
   "execution_count": 1,
   "metadata": {},
   "outputs": [
    {
     "data": {
      "text/html": [
       "<table>\n",
       "<thead><tr><th></th><th scope=col>GNP.deflator</th><th scope=col>GNP</th><th scope=col>Unemployed</th><th scope=col>Armed.Forces</th><th scope=col>Population</th><th scope=col>Year</th><th scope=col>Employed</th></tr></thead>\n",
       "<tbody>\n",
       "\t<tr><th scope=row>1947</th><td> 83.0  </td><td>234.289</td><td>235.6  </td><td>159.0  </td><td>107.608</td><td>1947   </td><td>60.323 </td></tr>\n",
       "\t<tr><th scope=row>1948</th><td> 88.5  </td><td>259.426</td><td>232.5  </td><td>145.6  </td><td>108.632</td><td>1948   </td><td>61.122 </td></tr>\n",
       "\t<tr><th scope=row>1949</th><td> 88.2  </td><td>258.054</td><td>368.2  </td><td>161.6  </td><td>109.773</td><td>1949   </td><td>60.171 </td></tr>\n",
       "\t<tr><th scope=row>1950</th><td> 89.5  </td><td>284.599</td><td>335.1  </td><td>165.0  </td><td>110.929</td><td>1950   </td><td>61.187 </td></tr>\n",
       "\t<tr><th scope=row>1951</th><td> 96.2  </td><td>328.975</td><td>209.9  </td><td>309.9  </td><td>112.075</td><td>1951   </td><td>63.221 </td></tr>\n",
       "\t<tr><th scope=row>1952</th><td> 98.1  </td><td>346.999</td><td>193.2  </td><td>359.4  </td><td>113.270</td><td>1952   </td><td>63.639 </td></tr>\n",
       "\t<tr><th scope=row>1953</th><td> 99.0  </td><td>365.385</td><td>187.0  </td><td>354.7  </td><td>115.094</td><td>1953   </td><td>64.989 </td></tr>\n",
       "\t<tr><th scope=row>1954</th><td>100.0  </td><td>363.112</td><td>357.8  </td><td>335.0  </td><td>116.219</td><td>1954   </td><td>63.761 </td></tr>\n",
       "\t<tr><th scope=row>1955</th><td>101.2  </td><td>397.469</td><td>290.4  </td><td>304.8  </td><td>117.388</td><td>1955   </td><td>66.019 </td></tr>\n",
       "\t<tr><th scope=row>1956</th><td>104.6  </td><td>419.180</td><td>282.2  </td><td>285.7  </td><td>118.734</td><td>1956   </td><td>67.857 </td></tr>\n",
       "\t<tr><th scope=row>1957</th><td>108.4  </td><td>442.769</td><td>293.6  </td><td>279.8  </td><td>120.445</td><td>1957   </td><td>68.169 </td></tr>\n",
       "\t<tr><th scope=row>1958</th><td>110.8  </td><td>444.546</td><td>468.1  </td><td>263.7  </td><td>121.950</td><td>1958   </td><td>66.513 </td></tr>\n",
       "\t<tr><th scope=row>1959</th><td>112.6  </td><td>482.704</td><td>381.3  </td><td>255.2  </td><td>123.366</td><td>1959   </td><td>68.655 </td></tr>\n",
       "\t<tr><th scope=row>1960</th><td>114.2  </td><td>502.601</td><td>393.1  </td><td>251.4  </td><td>125.368</td><td>1960   </td><td>69.564 </td></tr>\n",
       "\t<tr><th scope=row>1961</th><td>115.7  </td><td>518.173</td><td>480.6  </td><td>257.2  </td><td>127.852</td><td>1961   </td><td>69.331 </td></tr>\n",
       "\t<tr><th scope=row>1962</th><td>116.9  </td><td>554.894</td><td>400.7  </td><td>282.7  </td><td>130.081</td><td>1962   </td><td>70.551 </td></tr>\n",
       "</tbody>\n",
       "</table>\n"
      ],
      "text/latex": [
       "\\begin{tabular}{r|lllllll}\n",
       "  & GNP.deflator & GNP & Unemployed & Armed.Forces & Population & Year & Employed\\\\\n",
       "\\hline\n",
       "\t1947 &  83.0   & 234.289 & 235.6   & 159.0   & 107.608 & 1947    & 60.323 \\\\\n",
       "\t1948 &  88.5   & 259.426 & 232.5   & 145.6   & 108.632 & 1948    & 61.122 \\\\\n",
       "\t1949 &  88.2   & 258.054 & 368.2   & 161.6   & 109.773 & 1949    & 60.171 \\\\\n",
       "\t1950 &  89.5   & 284.599 & 335.1   & 165.0   & 110.929 & 1950    & 61.187 \\\\\n",
       "\t1951 &  96.2   & 328.975 & 209.9   & 309.9   & 112.075 & 1951    & 63.221 \\\\\n",
       "\t1952 &  98.1   & 346.999 & 193.2   & 359.4   & 113.270 & 1952    & 63.639 \\\\\n",
       "\t1953 &  99.0   & 365.385 & 187.0   & 354.7   & 115.094 & 1953    & 64.989 \\\\\n",
       "\t1954 & 100.0   & 363.112 & 357.8   & 335.0   & 116.219 & 1954    & 63.761 \\\\\n",
       "\t1955 & 101.2   & 397.469 & 290.4   & 304.8   & 117.388 & 1955    & 66.019 \\\\\n",
       "\t1956 & 104.6   & 419.180 & 282.2   & 285.7   & 118.734 & 1956    & 67.857 \\\\\n",
       "\t1957 & 108.4   & 442.769 & 293.6   & 279.8   & 120.445 & 1957    & 68.169 \\\\\n",
       "\t1958 & 110.8   & 444.546 & 468.1   & 263.7   & 121.950 & 1958    & 66.513 \\\\\n",
       "\t1959 & 112.6   & 482.704 & 381.3   & 255.2   & 123.366 & 1959    & 68.655 \\\\\n",
       "\t1960 & 114.2   & 502.601 & 393.1   & 251.4   & 125.368 & 1960    & 69.564 \\\\\n",
       "\t1961 & 115.7   & 518.173 & 480.6   & 257.2   & 127.852 & 1961    & 69.331 \\\\\n",
       "\t1962 & 116.9   & 554.894 & 400.7   & 282.7   & 130.081 & 1962    & 70.551 \\\\\n",
       "\\end{tabular}\n"
      ],
      "text/markdown": [
       "\n",
       "| <!--/--> | GNP.deflator | GNP | Unemployed | Armed.Forces | Population | Year | Employed | \n",
       "|---|---|---|---|---|---|---|---|---|---|---|---|---|---|---|---|\n",
       "| 1947 |  83.0   | 234.289 | 235.6   | 159.0   | 107.608 | 1947    | 60.323  | \n",
       "| 1948 |  88.5   | 259.426 | 232.5   | 145.6   | 108.632 | 1948    | 61.122  | \n",
       "| 1949 |  88.2   | 258.054 | 368.2   | 161.6   | 109.773 | 1949    | 60.171  | \n",
       "| 1950 |  89.5   | 284.599 | 335.1   | 165.0   | 110.929 | 1950    | 61.187  | \n",
       "| 1951 |  96.2   | 328.975 | 209.9   | 309.9   | 112.075 | 1951    | 63.221  | \n",
       "| 1952 |  98.1   | 346.999 | 193.2   | 359.4   | 113.270 | 1952    | 63.639  | \n",
       "| 1953 |  99.0   | 365.385 | 187.0   | 354.7   | 115.094 | 1953    | 64.989  | \n",
       "| 1954 | 100.0   | 363.112 | 357.8   | 335.0   | 116.219 | 1954    | 63.761  | \n",
       "| 1955 | 101.2   | 397.469 | 290.4   | 304.8   | 117.388 | 1955    | 66.019  | \n",
       "| 1956 | 104.6   | 419.180 | 282.2   | 285.7   | 118.734 | 1956    | 67.857  | \n",
       "| 1957 | 108.4   | 442.769 | 293.6   | 279.8   | 120.445 | 1957    | 68.169  | \n",
       "| 1958 | 110.8   | 444.546 | 468.1   | 263.7   | 121.950 | 1958    | 66.513  | \n",
       "| 1959 | 112.6   | 482.704 | 381.3   | 255.2   | 123.366 | 1959    | 68.655  | \n",
       "| 1960 | 114.2   | 502.601 | 393.1   | 251.4   | 125.368 | 1960    | 69.564  | \n",
       "| 1961 | 115.7   | 518.173 | 480.6   | 257.2   | 127.852 | 1961    | 69.331  | \n",
       "| 1962 | 116.9   | 554.894 | 400.7   | 282.7   | 130.081 | 1962    | 70.551  | \n",
       "\n",
       "\n"
      ],
      "text/plain": [
       "     GNP.deflator GNP     Unemployed Armed.Forces Population Year Employed\n",
       "1947  83.0        234.289 235.6      159.0        107.608    1947 60.323  \n",
       "1948  88.5        259.426 232.5      145.6        108.632    1948 61.122  \n",
       "1949  88.2        258.054 368.2      161.6        109.773    1949 60.171  \n",
       "1950  89.5        284.599 335.1      165.0        110.929    1950 61.187  \n",
       "1951  96.2        328.975 209.9      309.9        112.075    1951 63.221  \n",
       "1952  98.1        346.999 193.2      359.4        113.270    1952 63.639  \n",
       "1953  99.0        365.385 187.0      354.7        115.094    1953 64.989  \n",
       "1954 100.0        363.112 357.8      335.0        116.219    1954 63.761  \n",
       "1955 101.2        397.469 290.4      304.8        117.388    1955 66.019  \n",
       "1956 104.6        419.180 282.2      285.7        118.734    1956 67.857  \n",
       "1957 108.4        442.769 293.6      279.8        120.445    1957 68.169  \n",
       "1958 110.8        444.546 468.1      263.7        121.950    1958 66.513  \n",
       "1959 112.6        482.704 381.3      255.2        123.366    1959 68.655  \n",
       "1960 114.2        502.601 393.1      251.4        125.368    1960 69.564  \n",
       "1961 115.7        518.173 480.6      257.2        127.852    1961 69.331  \n",
       "1962 116.9        554.894 400.7      282.7        130.081    1962 70.551  "
      ]
     },
     "metadata": {},
     "output_type": "display_data"
    }
   ],
   "source": [
    "data(longley)\n",
    "longley\n",
    "dm<-dim(longley)\n",
    "dat<-head(longley)\n",
    "str<-c(names(longley))\n",
    "len<-length(str)\n",
    "y<-longley$GNP.deflator\n",
    "# Seeing the data we that we Basically We want to predict GNP deflator \n",
    "#given a sample of 16\n",
    "# between years 1945-1960\n",
    "# so the main charachteristic of the dataset for our estimation\n",
    "# is GNP_deflator"
   ]
  },
  {
   "cell_type": "code",
   "execution_count": 2,
   "metadata": {},
   "outputs": [
    {
     "data": {
      "image/png": "[encoded data removed]",
      "text/plain": [
       "plot without title"
      ]
     },
     "metadata": {},
     "output_type": "display_data"
    }
   ],
   "source": [
    "plot(longley$Year,longley$GNP.deflator,xlab=\"Years\",ylab = \"Economy\")\n",
    "# plotting the origin GNP_deflator of Longley's economy\n",
    "#between years 1945-1960\n"
   ]
  },
  {
   "cell_type": "code",
   "execution_count": 3,
   "metadata": {},
   "outputs": [
    {
     "data": {
      "text/html": [
       "<table>\n",
       "<thead><tr><th></th><th scope=col>GNP</th><th scope=col>Unemployed</th><th scope=col>Armed.Forces</th><th scope=col>Population</th><th scope=col>Employed</th></tr></thead>\n",
       "<tbody>\n",
       "\t<tr><th scope=row>1947</th><td>234.289</td><td>235.6  </td><td>159.0  </td><td>107.608</td><td>60.323 </td></tr>\n",
       "\t<tr><th scope=row>1948</th><td>259.426</td><td>232.5  </td><td>145.6  </td><td>108.632</td><td>61.122 </td></tr>\n",
       "\t<tr><th scope=row>1949</th><td>258.054</td><td>368.2  </td><td>161.6  </td><td>109.773</td><td>60.171 </td></tr>\n",
       "\t<tr><th scope=row>1950</th><td>284.599</td><td>335.1  </td><td>165.0  </td><td>110.929</td><td>61.187 </td></tr>\n",
       "\t<tr><th scope=row>1951</th><td>328.975</td><td>209.9  </td><td>309.9  </td><td>112.075</td><td>63.221 </td></tr>\n",
       "\t<tr><th scope=row>1952</th><td>346.999</td><td>193.2  </td><td>359.4  </td><td>113.270</td><td>63.639 </td></tr>\n",
       "\t<tr><th scope=row>1953</th><td>365.385</td><td>187.0  </td><td>354.7  </td><td>115.094</td><td>64.989 </td></tr>\n",
       "\t<tr><th scope=row>1954</th><td>363.112</td><td>357.8  </td><td>335.0  </td><td>116.219</td><td>63.761 </td></tr>\n",
       "\t<tr><th scope=row>1955</th><td>397.469</td><td>290.4  </td><td>304.8  </td><td>117.388</td><td>66.019 </td></tr>\n",
       "\t<tr><th scope=row>1956</th><td>419.180</td><td>282.2  </td><td>285.7  </td><td>118.734</td><td>67.857 </td></tr>\n",
       "\t<tr><th scope=row>1957</th><td>442.769</td><td>293.6  </td><td>279.8  </td><td>120.445</td><td>68.169 </td></tr>\n",
       "\t<tr><th scope=row>1958</th><td>444.546</td><td>468.1  </td><td>263.7  </td><td>121.950</td><td>66.513 </td></tr>\n",
       "\t<tr><th scope=row>1959</th><td>482.704</td><td>381.3  </td><td>255.2  </td><td>123.366</td><td>68.655 </td></tr>\n",
       "\t<tr><th scope=row>1960</th><td>502.601</td><td>393.1  </td><td>251.4  </td><td>125.368</td><td>69.564 </td></tr>\n",
       "\t<tr><th scope=row>1961</th><td>518.173</td><td>480.6  </td><td>257.2  </td><td>127.852</td><td>69.331 </td></tr>\n",
       "\t<tr><th scope=row>1962</th><td>554.894</td><td>400.7  </td><td>282.7  </td><td>130.081</td><td>70.551 </td></tr>\n",
       "</tbody>\n",
       "</table>\n"
      ],
      "text/latex": [
       "\\begin{tabular}{r|lllll}\n",
       "  & GNP & Unemployed & Armed.Forces & Population & Employed\\\\\n",
       "\\hline\n",
       "\t1947 & 234.289 & 235.6   & 159.0   & 107.608 & 60.323 \\\\\n",
       "\t1948 & 259.426 & 232.5   & 145.6   & 108.632 & 61.122 \\\\\n",
       "\t1949 & 258.054 & 368.2   & 161.6   & 109.773 & 60.171 \\\\\n",
       "\t1950 & 284.599 & 335.1   & 165.0   & 110.929 & 61.187 \\\\\n",
       "\t1951 & 328.975 & 209.9   & 309.9   & 112.075 & 63.221 \\\\\n",
       "\t1952 & 346.999 & 193.2   & 359.4   & 113.270 & 63.639 \\\\\n",
       "\t1953 & 365.385 & 187.0   & 354.7   & 115.094 & 64.989 \\\\\n",
       "\t1954 & 363.112 & 357.8   & 335.0   & 116.219 & 63.761 \\\\\n",
       "\t1955 & 397.469 & 290.4   & 304.8   & 117.388 & 66.019 \\\\\n",
       "\t1956 & 419.180 & 282.2   & 285.7   & 118.734 & 67.857 \\\\\n",
       "\t1957 & 442.769 & 293.6   & 279.8   & 120.445 & 68.169 \\\\\n",
       "\t1958 & 444.546 & 468.1   & 263.7   & 121.950 & 66.513 \\\\\n",
       "\t1959 & 482.704 & 381.3   & 255.2   & 123.366 & 68.655 \\\\\n",
       "\t1960 & 502.601 & 393.1   & 251.4   & 125.368 & 69.564 \\\\\n",
       "\t1961 & 518.173 & 480.6   & 257.2   & 127.852 & 69.331 \\\\\n",
       "\t1962 & 554.894 & 400.7   & 282.7   & 130.081 & 70.551 \\\\\n",
       "\\end{tabular}\n"
      ],
      "text/markdown": [
       "\n",
       "| <!--/--> | GNP | Unemployed | Armed.Forces | Population | Employed | \n",
       "|---|---|---|---|---|---|---|---|---|---|---|---|---|---|---|---|\n",
       "| 1947 | 234.289 | 235.6   | 159.0   | 107.608 | 60.323  | \n",
       "| 1948 | 259.426 | 232.5   | 145.6   | 108.632 | 61.122  | \n",
       "| 1949 | 258.054 | 368.2   | 161.6   | 109.773 | 60.171  | \n",
       "| 1950 | 284.599 | 335.1   | 165.0   | 110.929 | 61.187  | \n",
       "| 1951 | 328.975 | 209.9   | 309.9   | 112.075 | 63.221  | \n",
       "| 1952 | 346.999 | 193.2   | 359.4   | 113.270 | 63.639  | \n",
       "| 1953 | 365.385 | 187.0   | 354.7   | 115.094 | 64.989  | \n",
       "| 1954 | 363.112 | 357.8   | 335.0   | 116.219 | 63.761  | \n",
       "| 1955 | 397.469 | 290.4   | 304.8   | 117.388 | 66.019  | \n",
       "| 1956 | 419.180 | 282.2   | 285.7   | 118.734 | 67.857  | \n",
       "| 1957 | 442.769 | 293.6   | 279.8   | 120.445 | 68.169  | \n",
       "| 1958 | 444.546 | 468.1   | 263.7   | 121.950 | 66.513  | \n",
       "| 1959 | 482.704 | 381.3   | 255.2   | 123.366 | 68.655  | \n",
       "| 1960 | 502.601 | 393.1   | 251.4   | 125.368 | 69.564  | \n",
       "| 1961 | 518.173 | 480.6   | 257.2   | 127.852 | 69.331  | \n",
       "| 1962 | 554.894 | 400.7   | 282.7   | 130.081 | 70.551  | \n",
       "\n",
       "\n"
      ],
      "text/plain": [
       "     GNP     Unemployed Armed.Forces Population Employed\n",
       "1947 234.289 235.6      159.0        107.608    60.323  \n",
       "1948 259.426 232.5      145.6        108.632    61.122  \n",
       "1949 258.054 368.2      161.6        109.773    60.171  \n",
       "1950 284.599 335.1      165.0        110.929    61.187  \n",
       "1951 328.975 209.9      309.9        112.075    63.221  \n",
       "1952 346.999 193.2      359.4        113.270    63.639  \n",
       "1953 365.385 187.0      354.7        115.094    64.989  \n",
       "1954 363.112 357.8      335.0        116.219    63.761  \n",
       "1955 397.469 290.4      304.8        117.388    66.019  \n",
       "1956 419.180 282.2      285.7        118.734    67.857  \n",
       "1957 442.769 293.6      279.8        120.445    68.169  \n",
       "1958 444.546 468.1      263.7        121.950    66.513  \n",
       "1959 482.704 381.3      255.2        123.366    68.655  \n",
       "1960 502.601 393.1      251.4        125.368    69.564  \n",
       "1961 518.173 480.6      257.2        127.852    69.331  \n",
       "1962 554.894 400.7      282.7        130.081    70.551  "
      ]
     },
     "metadata": {},
     "output_type": "display_data"
    }
   ],
   "source": [
    "df<-longley\n",
    "df$Year<-NULL\n",
    "# Year is a metric for our results but as a feature it doesn't affect\n",
    "# the changes on the Longley's economy, so we remove that column\n",
    "# from the dataset \n",
    "\n",
    "df<-df[,2:6]\n",
    "df"
   ]
  },
  {
   "cell_type": "code",
   "execution_count": 4,
   "metadata": {},
   "outputs": [
    {
     "data": {
      "text/html": [
       "<table>\n",
       "<thead><tr><th></th><th scope=col>Estimate</th><th scope=col>Std. Error</th><th scope=col>t value</th><th scope=col>Pr(&gt;|t|)</th></tr></thead>\n",
       "<tbody>\n",
       "\t<tr><th scope=row>(Intercept)</th><td>225.800117333</td><td>81.873096320 </td><td> 2.7579282   </td><td>0.020201498  </td></tr>\n",
       "\t<tr><th scope=row>GNP</th><td>  0.221304646</td><td> 0.060903222 </td><td> 3.6337100   </td><td>0.004584302  </td></tr>\n",
       "\t<tr><th scope=row>Un</th><td>  0.022500676</td><td> 0.008190062 </td><td> 2.7473146   </td><td>0.020572846  </td></tr>\n",
       "\t<tr><th scope=row>AF</th><td>  0.004825249</td><td> 0.007800131 </td><td> 0.6186113   </td><td>0.550002911  </td></tr>\n",
       "\t<tr><th scope=row>pop</th><td> -1.707504127</td><td> 0.644746706 </td><td>-2.6483332   </td><td>0.024382714  </td></tr>\n",
       "\t<tr><th scope=row>emp</th><td> -0.273425430</td><td> 0.746136746 </td><td>-0.3664549   </td><td>0.721660219  </td></tr>\n",
       "</tbody>\n",
       "</table>\n"
      ],
      "text/latex": [
       "\\begin{tabular}{r|llll}\n",
       "  & Estimate & Std. Error & t value & Pr(>\\textbar{}t\\textbar{})\\\\\n",
       "\\hline\n",
       "\t(Intercept) & 225.800117333 & 81.873096320  &  2.7579282    & 0.020201498  \\\\\n",
       "\tGNP &   0.221304646 &  0.060903222  &  3.6337100    & 0.004584302  \\\\\n",
       "\tUn &   0.022500676 &  0.008190062  &  2.7473146    & 0.020572846  \\\\\n",
       "\tAF &   0.004825249 &  0.007800131  &  0.6186113    & 0.550002911  \\\\\n",
       "\tpop &  -1.707504127 &  0.644746706  & -2.6483332    & 0.024382714  \\\\\n",
       "\temp &  -0.273425430 &  0.746136746  & -0.3664549    & 0.721660219  \\\\\n",
       "\\end{tabular}\n"
      ],
      "text/markdown": [
       "\n",
       "| <!--/--> | Estimate | Std. Error | t value | Pr(>|t|) | \n",
       "|---|---|---|---|---|---|\n",
       "| (Intercept) | 225.800117333 | 81.873096320  |  2.7579282    | 0.020201498   | \n",
       "| GNP |   0.221304646 |  0.060903222  |  3.6337100    | 0.004584302   | \n",
       "| Un |   0.022500676 |  0.008190062  |  2.7473146    | 0.020572846   | \n",
       "| AF |   0.004825249 |  0.007800131  |  0.6186113    | 0.550002911   | \n",
       "| pop |  -1.707504127 |  0.644746706  | -2.6483332    | 0.024382714   | \n",
       "| emp |  -0.273425430 |  0.746136746  | -0.3664549    | 0.721660219   | \n",
       "\n",
       "\n"
      ],
      "text/plain": [
       "            Estimate      Std. Error   t value    Pr(>|t|)   \n",
       "(Intercept) 225.800117333 81.873096320  2.7579282 0.020201498\n",
       "GNP           0.221304646  0.060903222  3.6337100 0.004584302\n",
       "Un            0.022500676  0.008190062  2.7473146 0.020572846\n",
       "AF            0.004825249  0.007800131  0.6186113 0.550002911\n",
       "pop          -1.707504127  0.644746706 -2.6483332 0.024382714\n",
       "emp          -0.273425430  0.746136746 -0.3664549 0.721660219"
      ]
     },
     "metadata": {},
     "output_type": "display_data"
    }
   ],
   "source": [
    "#This is our main features\n",
    "########################################\n",
    "GNP<-df[,1]\n",
    "Un<-df[,2]\n",
    "AF<-df[,3]\n",
    "pop<-df[,4]\n",
    "emp<-df[,5]\n",
    "######################################\n",
    "\n",
    "#Let's proceed with our fitting\n",
    "fit<-lm(y~ GNP+Un+AF+pop+emp,data=df)\n",
    "sum<-summary(fit)$coef\n",
    "sum"
   ]
  },
  {
   "cell_type": "code",
   "execution_count": 5,
   "metadata": {},
   "outputs": [
    {
     "data": {
      "image/png": "[encoded data removed]",
      "text/plain": [
       "plot without title"
      ]
     },
     "metadata": {},
     "output_type": "display_data"
    }
   ],
   "source": [
    "# Store the coefficients of the features plus the intercept\n",
    "# for  the visualization our data estimation\n",
    "#############################\n",
    "GNP_coef<-sum[2,1]\n",
    "Un_coef<-sum[3,1]\n",
    "AF_coef<-sum[4,1]\n",
    "pop_coef<-sum[5,1]\n",
    "emp_coef<-sum[6,1]\n",
    "b<-sum[1,1]\n",
    "\n",
    "Est<- GNP*GNP_coef + Un*Un_coef + AF*AF_coef + pop*pop_coef + emp*emp_coef + b\n",
    "plot(longley$Year,Est,xlab=\"Years\",ylab = \"Estimated_Economy\")\n",
    "#############################"
   ]
  },
  {
   "cell_type": "code",
   "execution_count": 6,
   "metadata": {},
   "outputs": [
    {
     "data": {
      "image/png": "[encoded data removed]",
      "text/plain": [
       "plot without title"
      ]
     },
     "metadata": {},
     "output_type": "display_data"
    }
   ],
   "source": [
    "# Now let's compare our origin results with our estimated results\n",
    "plot(longley$GNP.deflator,Est,xlab=\"Economy\",ylab = \"Estimated_Economy\")\n",
    "\n",
    "# From the plot our intuition says that for generally we  have a \n",
    "#good fit but let's examine further the adjusted R squared\n",
    "#(adjusted because we have multiple features so we are talking \n",
    "#about multiple linear regression) says"
   ]
  },
  {
   "cell_type": "code",
   "execution_count": null,
   "metadata": {},
   "outputs": [],
   "source": []
  },
  {
   "cell_type": "code",
   "execution_count": 7,
   "metadata": {},
   "outputs": [
    {
     "name": "stdout",
     "output_type": "stream",
     "text": [
      "[1] \"the percentage of our adjusted R squared of the model is :\"\n",
      "[1] 98.86866\n"
     ]
    }
   ],
   "source": [
    "sm<-summary(fit)\n",
    "adj_R<-sm$adj.r.squared\n",
    "adj_R<-adj_R*100\n",
    "print(\"the percentage of our adjusted R squared of the model is :\")\n",
    "print(adj_R) \n",
    "# We see that we have 98.86% , that's a good fit!!!\n",
    "#but it is better to examine if we can develop a more prefferable model\n"
   ]
  },
  {
   "cell_type": "code",
   "execution_count": 8,
   "metadata": {},
   "outputs": [
    {
     "name": "stderr",
     "output_type": "stream",
     "text": [
      "Warning message:\n",
      "\"package 'fpp' was built under R version 3.4.3\"Loading required package: forecast\n",
      "Warning message:\n",
      "\"package 'forecast' was built under R version 3.4.3\"Error: package or namespace load failed for 'forecast' in loadNamespace(i, c(lib.loc, .libPaths()), versionCheck = vI[[i]]):\n",
      " there is no package called 'lattice'\n"
     ]
    },
    {
     "ename": "ERROR",
     "evalue": "Error: package 'forecast' could not be loaded\n",
     "output_type": "error",
     "traceback": [
      "Error: package 'forecast' could not be loaded\nTraceback:\n",
      "1. library(fpp)",
      "2. .getRequiredPackages2(pkgInfo, quietly = quietly)",
      "3. stop(gettextf(\"package %s could not be loaded\", sQuote(pkg)), \n .     call. = FALSE, domain = NA)"
     ]
    }
   ],
   "source": [
    "# In our dataframe we have 5 features considering \n",
    "# the changes of Longley's economy\n",
    "# Some features may have a great impact on these changes\n",
    "# some maybe not\n",
    "#It's for the best to ignore the features which doesn't have significant\n",
    "# effect on Longley's economy\n",
    "# Let's proceed with stepwise multilinear regression\n",
    "#In this project we are working with only 5 features only\n",
    "# but in real-life big data we have a lot of features\n",
    "#describing a dataset e.g. we may have >1000 features to examine\n",
    "# so that's why stepwise regression is crucial\n",
    "\n",
    "\n",
    "#Before developing the stepwise model,let's see the correlation between \n",
    "#our features\n",
    "\n",
    "\n",
    "\n",
    "library(fpp)\n",
    "## put histograms on the diagonal\n",
    "panel.hist <- function(x, ...)\n",
    "{\n",
    "  usr <- par(\"usr\"); on.exit(par(usr))\n",
    "  par(usr = c(usr[1:2], 0, 1.5) )\n",
    "  h <- hist(x, plot = FALSE)\n",
    "  breaks <- h$breaks; nB <- length(breaks)\n",
    "  y <- h$counts; y <- y/max(y)\n",
    "  rect(breaks[-nB], 0, breaks[-1], y, col = \"cyan\", ...)\n",
    "}\n",
    "\n",
    "pairs(df, diag.panel=panel.hist)\n",
    "\n",
    "\n",
    "# In some features we see a correlation between them(intuitevely)\n",
    "#e.g. between Population-GNP,seeing that as population increasing so as GNP does\n",
    "# but other relations have a large variance giving the essence of indepedency \n",
    "#e.g. Armed Forces-Unemployment"
   ]
  },
  {
   "cell_type": "code",
   "execution_count": 9,
   "metadata": {},
   "outputs": [
    {
     "name": "stdout",
     "output_type": "stream",
     "text": [
      "Start:  AIC=8.89\n",
      "y ~ GNP + Un + AF + pop + emp\n",
      "\n",
      "       Df Sum of Sq    RSS     AIC\n",
      "- emp   1    0.1769 13.352  7.1055\n",
      "- AF    1    0.5042 13.680  7.4930\n",
      "<none>              13.175  8.8921\n",
      "- pop   1    9.2407 22.416 15.3950\n",
      "- Un    1    9.9444 23.120 15.8895\n",
      "- GNP   1   17.3965 30.572 20.3598\n",
      "\n",
      "Step:  AIC=7.11\n",
      "y ~ GNP + Un + AF + pop\n",
      "\n",
      "       Df Sum of Sq    RSS     AIC\n",
      "- AF    1     1.323 14.675  6.6169\n",
      "<none>              13.352  7.1055\n",
      "- pop   1     9.673 23.025 13.8237\n",
      "- Un    1    14.490 27.842 16.8633\n",
      "- GNP   1    35.211 48.563 25.7645\n",
      "\n",
      "Step:  AIC=6.62\n",
      "y ~ GNP + Un + pop\n",
      "\n",
      "       Df Sum of Sq    RSS     AIC\n",
      "<none>              14.675  6.6169\n",
      "- Un    1    13.317 27.992 14.9493\n",
      "- pop   1    13.320 27.995 14.9510\n",
      "- GNP   1    48.561 63.236 27.9887\n"
     ]
    },
    {
     "data": {
      "text/html": [
       "<table>\n",
       "<thead><tr><th></th><th scope=col>Estimate</th><th scope=col>Std. Error</th><th scope=col>t value</th><th scope=col>Pr(&gt;|t|)</th></tr></thead>\n",
       "<tbody>\n",
       "\t<tr><th scope=row>(Intercept)</th><td>221.12959101</td><td>48.972506360</td><td> 4.515382   </td><td>7.074611e-04</td></tr>\n",
       "\t<tr><th scope=row>GNP</th><td>  0.22009805</td><td> 0.034927699</td><td> 6.301533   </td><td>3.938664e-05</td></tr>\n",
       "\t<tr><th scope=row>Un</th><td>  0.02245816</td><td> 0.006805676</td><td> 3.299916   </td><td>6.341740e-03</td></tr>\n",
       "\t<tr><th scope=row>pop</th><td> -1.80501094</td><td> 0.546924523</td><td>-3.300293   </td><td>6.337315e-03</td></tr>\n",
       "</tbody>\n",
       "</table>\n"
      ],
      "text/latex": [
       "\\begin{tabular}{r|llll}\n",
       "  & Estimate & Std. Error & t value & Pr(>\\textbar{}t\\textbar{})\\\\\n",
       "\\hline\n",
       "\t(Intercept) & 221.12959101 & 48.972506360 &  4.515382    & 7.074611e-04\\\\\n",
       "\tGNP &   0.22009805 &  0.034927699 &  6.301533    & 3.938664e-05\\\\\n",
       "\tUn &   0.02245816 &  0.006805676 &  3.299916    & 6.341740e-03\\\\\n",
       "\tpop &  -1.80501094 &  0.546924523 & -3.300293    & 6.337315e-03\\\\\n",
       "\\end{tabular}\n"
      ],
      "text/markdown": [
       "\n",
       "| <!--/--> | Estimate | Std. Error | t value | Pr(>|t|) | \n",
       "|---|---|---|---|\n",
       "| (Intercept) | 221.12959101 | 48.972506360 |  4.515382    | 7.074611e-04 | \n",
       "| GNP |   0.22009805 |  0.034927699 |  6.301533    | 3.938664e-05 | \n",
       "| Un |   0.02245816 |  0.006805676 |  3.299916    | 6.341740e-03 | \n",
       "| pop |  -1.80501094 |  0.546924523 | -3.300293    | 6.337315e-03 | \n",
       "\n",
       "\n"
      ],
      "text/plain": [
       "            Estimate     Std. Error   t value   Pr(>|t|)    \n",
       "(Intercept) 221.12959101 48.972506360  4.515382 7.074611e-04\n",
       "GNP           0.22009805  0.034927699  6.301533 3.938664e-05\n",
       "Un            0.02245816  0.006805676  3.299916 6.341740e-03\n",
       "pop          -1.80501094  0.546924523 -3.300293 6.337315e-03"
      ]
     },
     "metadata": {},
     "output_type": "display_data"
    }
   ],
   "source": [
    "fit1<-step(lm(y~ GNP+Un+AF+pop+emp,data=df))\n",
    "sum1<-summary(fit1)$coef\n",
    "# we see that the stepwise model chose 3 features out of 5:\n",
    "# GNP,Unemployment,Population\n",
    "sum1"
   ]
  },
  {
   "cell_type": "code",
   "execution_count": 10,
   "metadata": {},
   "outputs": [
    {
     "name": "stdout",
     "output_type": "stream",
     "text": [
      "[1] \" Adjusted R squared in Linear Multiregression Model :\"\n",
      "[1] 98.86866\n",
      "[1] \" Adjusted R squared in Stepwise Linear Multiregression Model :\"\n",
      "[1] 98.9499\n"
     ]
    }
   ],
   "source": [
    "#################\n",
    "GNP1_coef<-sum1[2,1]\n",
    "Un1_coef<-sum1[3,1]\n",
    "pop1_coef<-sum1[4,1]\n",
    "b1<-sum1[1,1]\n",
    "##################\n",
    "\n",
    "\n",
    "\n",
    "\n",
    "new_Est<- GNP1_coef*GNP + Un1_coef*Un +pop1_coef*pop + b1\n",
    "sm<-summary(fit1)\n",
    "adj_R1<-sm$adj.r.squared\n",
    "adj_R1<-adj_R1*100\n",
    "\n",
    "\n",
    "print(\" Adjusted R squared in Linear Multiregression Model :\")\n",
    "print(adj_R)\n",
    "print(\" Adjusted R squared in Stepwise Linear Multiregression Model :\")\n",
    "print(adj_R1)\n",
    "# we see that adjusted R in stepwise model is  a little bit greater (98.95>98.87)\n",
    "# Comparing Plots of origin and the new estimation of the stepwise model "
   ]
  },
  {
   "cell_type": "code",
   "execution_count": 11,
   "metadata": {},
   "outputs": [
    {
     "data": {
      "image/png": "[encoded data removed]",
      "text/plain": [
       "plot without title"
      ]
     },
     "metadata": {},
     "output_type": "display_data"
    },
    {
     "data": {
      "image/png": "[encoded data removed]",
      "text/plain": [
       "plot without title"
      ]
     },
     "metadata": {},
     "output_type": "display_data"
    }
   ],
   "source": [
    "plot(longley$Year,new_Est,xlab=\"Years\",ylab = \"Estimated_Economy\")\n",
    "plot(longley$Year,longley$GNP.deflator,xlab=\"Years\",ylab = \"Economy\")"
   ]
  },
  {
   "cell_type": "code",
   "execution_count": 12,
   "metadata": {},
   "outputs": [
    {
     "data": {
      "text/html": [
       "<table>\n",
       "<thead><tr><th scope=col>Res.Df</th><th scope=col>RSS</th><th scope=col>Df</th><th scope=col>Sum of Sq</th><th scope=col>F</th><th scope=col>Pr(&gt;F)</th></tr></thead>\n",
       "<tbody>\n",
       "\t<tr><td>12       </td><td>14.67504 </td><td>NA       </td><td>      NA </td><td>       NA</td><td>       NA</td></tr>\n",
       "\t<tr><td>10       </td><td>13.17532 </td><td> 2       </td><td>1.499719 </td><td>0.5691395</td><td>0.5833236</td></tr>\n",
       "</tbody>\n",
       "</table>\n"
      ],
      "text/latex": [
       "\\begin{tabular}{r|llllll}\n",
       " Res.Df & RSS & Df & Sum of Sq & F & Pr(>F)\\\\\n",
       "\\hline\n",
       "\t 12        & 14.67504  & NA        &       NA  &        NA &        NA\\\\\n",
       "\t 10        & 13.17532  &  2        & 1.499719  & 0.5691395 & 0.5833236\\\\\n",
       "\\end{tabular}\n"
      ],
      "text/markdown": [
       "\n",
       "Res.Df | RSS | Df | Sum of Sq | F | Pr(>F) | \n",
       "|---|---|\n",
       "| 12        | 14.67504  | NA        |       NA  |        NA |        NA | \n",
       "| 10        | 13.17532  |  2        | 1.499719  | 0.5691395 | 0.5833236 | \n",
       "\n",
       "\n"
      ],
      "text/plain": [
       "  Res.Df RSS      Df Sum of Sq F         Pr(>F)   \n",
       "1 12     14.67504 NA       NA         NA        NA\n",
       "2 10     13.17532  2 1.499719  0.5691395 0.5833236"
      ]
     },
     "metadata": {},
     "output_type": "display_data"
    }
   ],
   "source": [
    "# comparing the two models\n",
    "anova(fit1,fit)"
   ]
  },
  {
   "cell_type": "code",
   "execution_count": 13,
   "metadata": {},
   "outputs": [
    {
     "data": {
      "image/png": "[encoded data removed]",
      "text/plain": [
       "plot without title"
      ]
     },
     "metadata": {},
     "output_type": "display_data"
    }
   ],
   "source": [
    "plot(longley$GNP.deflator, fitted(fit),xlab=\"Economy\",ylab = \"Estimated_Economy\") \n",
    "abline(0,1)"
   ]
  },
  {
   "cell_type": "code",
   "execution_count": 14,
   "metadata": {},
   "outputs": [
    {
     "data": {
      "image/png": "[encoded data removed]",
      "text/plain": [
       "plot without title"
      ]
     },
     "metadata": {},
     "output_type": "display_data"
    }
   ],
   "source": [
    "plot(longley$GNP.deflator, fitted(fit1),xlab=\"Economy\",ylab = \"Step_Estimated_Economy\") \n",
    "abline(0,1) "
   ]
  },
  {
   "cell_type": "code",
   "execution_count": 15,
   "metadata": {},
   "outputs": [],
   "source": [
    "# That means that in stepwise linear we have better score(better fit)\n",
    "#(bigger adjustive r_squared) but in linear regression we maybe have a worse fit\n",
    "# but as we can see we can have better predictions\n",
    "#probably because of lack of features in stepwise in our problem\n",
    "# as we don't speak about large data and we have a small number of features\n",
    "# so we may need them all\n",
    "\n",
    "# The problem of having a good fit but having worst predictions is\n",
    "#a problem of overfitting\n",
    "\n",
    "# Every problem's approoch is different due to its charachteristics\n",
    "# so its up to data scientist's intuition to examine the problem\n",
    "# and then use the most appropriate method for the analysis\n"
   ]
  },
  {
   "cell_type": "code",
   "execution_count": null,
   "metadata": {},
   "outputs": [],
   "source": []
  }
 ],
 "metadata": {
  "kernelspec": {
   "display_name": "R",
   "language": "R",
   "name": "ir"
  },
  "language_info": {
   "codemirror_mode": "r",
   "file_extension": ".r",
   "mimetype": "text/x-r-source",
   "name": "R",
   "pygments_lexer": "r",
   "version": "3.4.2"
  }
 },
 "nbformat": 4,
 "nbformat_minor": 2
}
